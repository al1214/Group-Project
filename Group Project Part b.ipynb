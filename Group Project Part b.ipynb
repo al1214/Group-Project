{
 "cells": [
  {
   "attachments": {},
   "cell_type": "markdown",
   "id": "fbcf48d7",
   "metadata": {},
   "source": [
    "## Group Project\n",
    "#### Andrew Long\n",
    "#### William Jinkins\n",
    "#### Tyler Borer"
   ]
  },
  {
   "cell_type": "markdown",
   "id": "5b4b5503",
   "metadata": {},
   "source": [
    "Our code is significantly different than any that we have seen on Kaggle, when dealing with these datasets. Unlike the previous code examples, we take the extra step of stemming and lemmatizing the data. Our goal is also slightly different, as well. We would like to not only predict if an article is fake or real, but we would also like to add additional classifications, such as propoganda.\n",
    "\n",
    "This program will combine the two data sets. There are a total of 3 data sets. \n",
    "Overall program flow - \n",
    "* Load needed libraries\n",
    "* Import the data and combine into single dataframe\n",
    "* Clean data by removing duplicates, lower casing text, removing punctuation, removing stop words, stemming and lemmatizing, & removing numbers and special characters\n",
    "* Examine the data and provide visualizations\n",
    "* Data is then tokenized in 2 different ways\n"
   ]
  },
  {
   "cell_type": "code",
   "execution_count": 1,
   "id": "793d0d95",
   "metadata": {},
   "outputs": [],
   "source": [
    "### Libraries Used\n",
    "\n",
    "import pandas as pd\n",
    "import numpy as np\n",
    "import re\n",
    "import nltk\n",
    "import matplotlib.pyplot as plt\n",
    "import string\n",
    "import gensim\n",
    "import gensim.corpora as corpora\n",
    "#!pip install pyldavis\n",
    "import pyLDAvis\n",
    "import pyLDAvis.gensim\n",
    "\n",
    "from sklearn.feature_extraction.text import CountVectorizer, TfidfVectorizer\n",
    "from nltk.tokenize import word_tokenize\n",
    "from nltk.corpus import stopwords\n",
    "from nltk.stem import PorterStemmer, WordNetLemmatizer\n",
    "from gensim import corpora, models\n",
    "from gensim.models import CoherenceModel"
   ]
  },
  {
   "cell_type": "markdown",
   "id": "58f4c932",
   "metadata": {},
   "source": [
    "### Importing Datasets and Combining Into One"
   ]
  },
  {
   "cell_type": "code",
   "execution_count": 2,
   "id": "07c2dbed",
   "metadata": {},
   "outputs": [
    {
     "data": {
      "text/html": [
       "<div>\n",
       "<style scoped>\n",
       "    .dataframe tbody tr th:only-of-type {\n",
       "        vertical-align: middle;\n",
       "    }\n",
       "\n",
       "    .dataframe tbody tr th {\n",
       "        vertical-align: top;\n",
       "    }\n",
       "\n",
       "    .dataframe thead th {\n",
       "        text-align: right;\n",
       "    }\n",
       "</style>\n",
       "<table border=\"1\" class=\"dataframe\">\n",
       "  <thead>\n",
       "    <tr style=\"text-align: right;\">\n",
       "      <th></th>\n",
       "      <th>title</th>\n",
       "      <th>text</th>\n",
       "      <th>subject</th>\n",
       "      <th>date</th>\n",
       "    </tr>\n",
       "  </thead>\n",
       "  <tbody>\n",
       "    <tr>\n",
       "      <th>0</th>\n",
       "      <td>Donald Trump Sends Out Embarrassing New Year’...</td>\n",
       "      <td>Donald Trump just couldn t wish all Americans ...</td>\n",
       "      <td>News</td>\n",
       "      <td>December 31, 2017</td>\n",
       "    </tr>\n",
       "    <tr>\n",
       "      <th>1</th>\n",
       "      <td>Drunk Bragging Trump Staffer Started Russian ...</td>\n",
       "      <td>House Intelligence Committee Chairman Devin Nu...</td>\n",
       "      <td>News</td>\n",
       "      <td>December 31, 2017</td>\n",
       "    </tr>\n",
       "    <tr>\n",
       "      <th>2</th>\n",
       "      <td>Sheriff David Clarke Becomes An Internet Joke...</td>\n",
       "      <td>On Friday, it was revealed that former Milwauk...</td>\n",
       "      <td>News</td>\n",
       "      <td>December 30, 2017</td>\n",
       "    </tr>\n",
       "    <tr>\n",
       "      <th>3</th>\n",
       "      <td>Trump Is So Obsessed He Even Has Obama’s Name...</td>\n",
       "      <td>On Christmas day, Donald Trump announced that ...</td>\n",
       "      <td>News</td>\n",
       "      <td>December 29, 2017</td>\n",
       "    </tr>\n",
       "    <tr>\n",
       "      <th>4</th>\n",
       "      <td>Pope Francis Just Called Out Donald Trump Dur...</td>\n",
       "      <td>Pope Francis used his annual Christmas Day mes...</td>\n",
       "      <td>News</td>\n",
       "      <td>December 25, 2017</td>\n",
       "    </tr>\n",
       "  </tbody>\n",
       "</table>\n",
       "</div>"
      ],
      "text/plain": [
       "                                               title  \\\n",
       "0   Donald Trump Sends Out Embarrassing New Year’...   \n",
       "1   Drunk Bragging Trump Staffer Started Russian ...   \n",
       "2   Sheriff David Clarke Becomes An Internet Joke...   \n",
       "3   Trump Is So Obsessed He Even Has Obama’s Name...   \n",
       "4   Pope Francis Just Called Out Donald Trump Dur...   \n",
       "\n",
       "                                                text subject  \\\n",
       "0  Donald Trump just couldn t wish all Americans ...    News   \n",
       "1  House Intelligence Committee Chairman Devin Nu...    News   \n",
       "2  On Friday, it was revealed that former Milwauk...    News   \n",
       "3  On Christmas day, Donald Trump announced that ...    News   \n",
       "4  Pope Francis used his annual Christmas Day mes...    News   \n",
       "\n",
       "                date  \n",
       "0  December 31, 2017  \n",
       "1  December 31, 2017  \n",
       "2  December 30, 2017  \n",
       "3  December 29, 2017  \n",
       "4  December 25, 2017  "
      ]
     },
     "execution_count": 2,
     "metadata": {},
     "output_type": "execute_result"
    }
   ],
   "source": [
    "### Importing first dataset and looking at top 5 rows\n",
    "#Used the pandas read_csv function to import from folder \"data\"\n",
    "\n",
    "df1 = pd.read_csv(\"data/Fake.csv\")\n",
    "df1.head()"
   ]
  },
  {
   "cell_type": "code",
   "execution_count": 3,
   "id": "77166572",
   "metadata": {},
   "outputs": [
    {
     "data": {
      "text/html": [
       "<div>\n",
       "<style scoped>\n",
       "    .dataframe tbody tr th:only-of-type {\n",
       "        vertical-align: middle;\n",
       "    }\n",
       "\n",
       "    .dataframe tbody tr th {\n",
       "        vertical-align: top;\n",
       "    }\n",
       "\n",
       "    .dataframe thead th {\n",
       "        text-align: right;\n",
       "    }\n",
       "</style>\n",
       "<table border=\"1\" class=\"dataframe\">\n",
       "  <thead>\n",
       "    <tr style=\"text-align: right;\">\n",
       "      <th></th>\n",
       "      <th>title</th>\n",
       "      <th>text</th>\n",
       "      <th>subject</th>\n",
       "      <th>date</th>\n",
       "    </tr>\n",
       "  </thead>\n",
       "  <tbody>\n",
       "    <tr>\n",
       "      <th>0</th>\n",
       "      <td>As U.S. budget fight looms, Republicans flip t...</td>\n",
       "      <td>WASHINGTON (Reuters) - The head of a conservat...</td>\n",
       "      <td>politicsNews</td>\n",
       "      <td>December 31, 2017</td>\n",
       "    </tr>\n",
       "    <tr>\n",
       "      <th>1</th>\n",
       "      <td>U.S. military to accept transgender recruits o...</td>\n",
       "      <td>WASHINGTON (Reuters) - Transgender people will...</td>\n",
       "      <td>politicsNews</td>\n",
       "      <td>December 29, 2017</td>\n",
       "    </tr>\n",
       "    <tr>\n",
       "      <th>2</th>\n",
       "      <td>Senior U.S. Republican senator: 'Let Mr. Muell...</td>\n",
       "      <td>WASHINGTON (Reuters) - The special counsel inv...</td>\n",
       "      <td>politicsNews</td>\n",
       "      <td>December 31, 2017</td>\n",
       "    </tr>\n",
       "    <tr>\n",
       "      <th>3</th>\n",
       "      <td>FBI Russia probe helped by Australian diplomat...</td>\n",
       "      <td>WASHINGTON (Reuters) - Trump campaign adviser ...</td>\n",
       "      <td>politicsNews</td>\n",
       "      <td>December 30, 2017</td>\n",
       "    </tr>\n",
       "    <tr>\n",
       "      <th>4</th>\n",
       "      <td>Trump wants Postal Service to charge 'much mor...</td>\n",
       "      <td>SEATTLE/WASHINGTON (Reuters) - President Donal...</td>\n",
       "      <td>politicsNews</td>\n",
       "      <td>December 29, 2017</td>\n",
       "    </tr>\n",
       "  </tbody>\n",
       "</table>\n",
       "</div>"
      ],
      "text/plain": [
       "                                               title  \\\n",
       "0  As U.S. budget fight looms, Republicans flip t...   \n",
       "1  U.S. military to accept transgender recruits o...   \n",
       "2  Senior U.S. Republican senator: 'Let Mr. Muell...   \n",
       "3  FBI Russia probe helped by Australian diplomat...   \n",
       "4  Trump wants Postal Service to charge 'much mor...   \n",
       "\n",
       "                                                text       subject  \\\n",
       "0  WASHINGTON (Reuters) - The head of a conservat...  politicsNews   \n",
       "1  WASHINGTON (Reuters) - Transgender people will...  politicsNews   \n",
       "2  WASHINGTON (Reuters) - The special counsel inv...  politicsNews   \n",
       "3  WASHINGTON (Reuters) - Trump campaign adviser ...  politicsNews   \n",
       "4  SEATTLE/WASHINGTON (Reuters) - President Donal...  politicsNews   \n",
       "\n",
       "                 date  \n",
       "0  December 31, 2017   \n",
       "1  December 29, 2017   \n",
       "2  December 31, 2017   \n",
       "3  December 30, 2017   \n",
       "4  December 29, 2017   "
      ]
     },
     "execution_count": 3,
     "metadata": {},
     "output_type": "execute_result"
    }
   ],
   "source": [
    "### Importing second dataset and looking at top 5 rows\n",
    "#Used the pandas read_csv function to import from folder \"data\"\n",
    "df2 = pd.read_csv(\"data/True.csv\")\n",
    "df2.head()\n",
    "\n",
    "### column names are the same as df1"
   ]
  },
  {
   "cell_type": "code",
   "execution_count": 4,
   "id": "c57e2746",
   "metadata": {},
   "outputs": [
    {
     "data": {
      "text/html": [
       "<div>\n",
       "<style scoped>\n",
       "    .dataframe tbody tr th:only-of-type {\n",
       "        vertical-align: middle;\n",
       "    }\n",
       "\n",
       "    .dataframe tbody tr th {\n",
       "        vertical-align: top;\n",
       "    }\n",
       "\n",
       "    .dataframe thead th {\n",
       "        text-align: right;\n",
       "    }\n",
       "</style>\n",
       "<table border=\"1\" class=\"dataframe\">\n",
       "  <thead>\n",
       "    <tr style=\"text-align: right;\">\n",
       "      <th></th>\n",
       "      <th>Unnamed: 0</th>\n",
       "      <th>title</th>\n",
       "      <th>text</th>\n",
       "      <th>label</th>\n",
       "    </tr>\n",
       "  </thead>\n",
       "  <tbody>\n",
       "    <tr>\n",
       "      <th>0</th>\n",
       "      <td>8476</td>\n",
       "      <td>You Can Smell Hillary’s Fear</td>\n",
       "      <td>Daniel Greenfield, a Shillman Journalism Fello...</td>\n",
       "      <td>FAKE</td>\n",
       "    </tr>\n",
       "    <tr>\n",
       "      <th>1</th>\n",
       "      <td>10294</td>\n",
       "      <td>Watch The Exact Moment Paul Ryan Committed Pol...</td>\n",
       "      <td>Google Pinterest Digg Linkedin Reddit Stumbleu...</td>\n",
       "      <td>FAKE</td>\n",
       "    </tr>\n",
       "    <tr>\n",
       "      <th>2</th>\n",
       "      <td>3608</td>\n",
       "      <td>Kerry to go to Paris in gesture of sympathy</td>\n",
       "      <td>U.S. Secretary of State John F. Kerry said Mon...</td>\n",
       "      <td>REAL</td>\n",
       "    </tr>\n",
       "    <tr>\n",
       "      <th>3</th>\n",
       "      <td>10142</td>\n",
       "      <td>Bernie supporters on Twitter erupt in anger ag...</td>\n",
       "      <td>— Kaydee King (@KaydeeKing) November 9, 2016 T...</td>\n",
       "      <td>FAKE</td>\n",
       "    </tr>\n",
       "    <tr>\n",
       "      <th>4</th>\n",
       "      <td>875</td>\n",
       "      <td>The Battle of New York: Why This Primary Matters</td>\n",
       "      <td>It's primary day in New York and front-runners...</td>\n",
       "      <td>REAL</td>\n",
       "    </tr>\n",
       "  </tbody>\n",
       "</table>\n",
       "</div>"
      ],
      "text/plain": [
       "   Unnamed: 0                                              title  \\\n",
       "0        8476                       You Can Smell Hillary’s Fear   \n",
       "1       10294  Watch The Exact Moment Paul Ryan Committed Pol...   \n",
       "2        3608        Kerry to go to Paris in gesture of sympathy   \n",
       "3       10142  Bernie supporters on Twitter erupt in anger ag...   \n",
       "4         875   The Battle of New York: Why This Primary Matters   \n",
       "\n",
       "                                                text label  \n",
       "0  Daniel Greenfield, a Shillman Journalism Fello...  FAKE  \n",
       "1  Google Pinterest Digg Linkedin Reddit Stumbleu...  FAKE  \n",
       "2  U.S. Secretary of State John F. Kerry said Mon...  REAL  \n",
       "3  — Kaydee King (@KaydeeKing) November 9, 2016 T...  FAKE  \n",
       "4  It's primary day in New York and front-runners...  REAL  "
      ]
     },
     "execution_count": 4,
     "metadata": {},
     "output_type": "execute_result"
    }
   ],
   "source": [
    "### Importing third dataset and looking at top 5 rows\n",
    "#Used the pandas read_csv function to import from folder \"data\"\n",
    "\n",
    "df3 = pd.read_csv(\"data/fake_or_real_news.csv\")\n",
    "df3.head()\n",
    "\n",
    "### column names are slightly different"
   ]
  },
  {
   "cell_type": "markdown",
   "id": "fe100225",
   "metadata": {},
   "source": [
    "Note df1 and df2 have the same column names. df3 had different column names. \n",
    "If want to combine all three data frames, then will need to reduce df1 and df2 by dropping date and subject. The unnamed column in df3 will also need to be removed. "
   ]
  },
  {
   "cell_type": "code",
   "execution_count": 5,
   "id": "d8716cb4",
   "metadata": {},
   "outputs": [
    {
     "name": "stdout",
     "output_type": "stream",
     "text": [
      "The shape of Fake data is - (23481, 4)\n",
      "The shape of True data is - (21417, 4)\n",
      "The shape of the second combined data set is - (6335, 4)\n"
     ]
    }
   ],
   "source": [
    "print(\"The shape of Fake data is -\",df1.shape)\n",
    "print(\"The shape of True data is -\",df2.shape)\n",
    "print(\"The shape of the second combined data set is -\",df3.shape)"
   ]
  },
  {
   "cell_type": "markdown",
   "id": "33cd8557",
   "metadata": {},
   "source": [
    "Data Frame 3 is the cobmined data set which has true and fake data. It is a much smaller dataset. df1 and df2 are approximately the same size. This is important for our use so we are not solving a rare event model for prediction. "
   ]
  },
  {
   "cell_type": "code",
   "execution_count": 6,
   "id": "f210c0e9",
   "metadata": {},
   "outputs": [],
   "source": [
    "### Assigning new label column to df1 and df2\n",
    "\n",
    "label_fake = [\"1\"] * len(df1)\n",
    "df1['label'] = label_fake\n",
    "#print(df1.head())\n",
    "label_real = [\"0\"] * len(df2)\n",
    "df2['label'] = label_real\n",
    "#print(df2.head())\n",
    "\n",
    "### Changing 'label' column in df3 to binary values\n",
    "\n",
    "df3['label'] = df3['label'].str.replace('FAKE', '1')\n",
    "df3['label'] = df3['label'].str.replace('REAL', '0')\n",
    "#df3.head()"
   ]
  },
  {
   "cell_type": "code",
   "execution_count": 7,
   "id": "f39308f2",
   "metadata": {},
   "outputs": [
    {
     "data": {
      "text/html": [
       "<div>\n",
       "<style scoped>\n",
       "    .dataframe tbody tr th:only-of-type {\n",
       "        vertical-align: middle;\n",
       "    }\n",
       "\n",
       "    .dataframe tbody tr th {\n",
       "        vertical-align: top;\n",
       "    }\n",
       "\n",
       "    .dataframe thead th {\n",
       "        text-align: right;\n",
       "    }\n",
       "</style>\n",
       "<table border=\"1\" class=\"dataframe\">\n",
       "  <thead>\n",
       "    <tr style=\"text-align: right;\">\n",
       "      <th></th>\n",
       "      <th>title</th>\n",
       "      <th>text</th>\n",
       "      <th>label</th>\n",
       "    </tr>\n",
       "  </thead>\n",
       "  <tbody>\n",
       "    <tr>\n",
       "      <th>51223</th>\n",
       "      <td>Will the Media Reset After the Election or Are...</td>\n",
       "      <td>Written by Peter Van Buren   venerable New Yor...</td>\n",
       "      <td>1</td>\n",
       "    </tr>\n",
       "    <tr>\n",
       "      <th>51224</th>\n",
       "      <td>DOJ COMPLAINT: Comey Under Fire Over Partisan ...</td>\n",
       "      <td>DOJ COMPLAINT: Comey Under Fire Over Partisan ...</td>\n",
       "      <td>1</td>\n",
       "    </tr>\n",
       "    <tr>\n",
       "      <th>51225</th>\n",
       "      <td>GOP Senator David Perdue Jokes About Praying f...</td>\n",
       "      <td>The freshman senator from Georgia quoted scrip...</td>\n",
       "      <td>0</td>\n",
       "    </tr>\n",
       "    <tr>\n",
       "      <th>51226</th>\n",
       "      <td>Radio Derb Is On The Air–Leonardo And Brazil’s...</td>\n",
       "      <td></td>\n",
       "      <td>1</td>\n",
       "    </tr>\n",
       "    <tr>\n",
       "      <th>51227</th>\n",
       "      <td>Assange claims ‘crazed’ Clinton campaign tried...</td>\n",
       "      <td>Julian Assange has claimed the Hillary Clinton...</td>\n",
       "      <td>1</td>\n",
       "    </tr>\n",
       "    <tr>\n",
       "      <th>51228</th>\n",
       "      <td>State Department says it can't find emails fro...</td>\n",
       "      <td>The State Department told the Republican Natio...</td>\n",
       "      <td>0</td>\n",
       "    </tr>\n",
       "    <tr>\n",
       "      <th>51229</th>\n",
       "      <td>The ‘P’ in PBS Should Stand for ‘Plutocratic’ ...</td>\n",
       "      <td>The ‘P’ in PBS Should Stand for ‘Plutocratic’ ...</td>\n",
       "      <td>1</td>\n",
       "    </tr>\n",
       "    <tr>\n",
       "      <th>51230</th>\n",
       "      <td>Anti-Trump Protesters Are Tools of the Oligarc...</td>\n",
       "      <td>Anti-Trump Protesters Are Tools of the Oligar...</td>\n",
       "      <td>1</td>\n",
       "    </tr>\n",
       "    <tr>\n",
       "      <th>51231</th>\n",
       "      <td>In Ethiopia, Obama seeks progress on peace, se...</td>\n",
       "      <td>ADDIS ABABA, Ethiopia —President Obama convene...</td>\n",
       "      <td>0</td>\n",
       "    </tr>\n",
       "    <tr>\n",
       "      <th>51232</th>\n",
       "      <td>Jeb Bush Is Suddenly Attacking Trump. Here's W...</td>\n",
       "      <td>Jeb Bush Is Suddenly Attacking Trump. Here's W...</td>\n",
       "      <td>0</td>\n",
       "    </tr>\n",
       "  </tbody>\n",
       "</table>\n",
       "</div>"
      ],
      "text/plain": [
       "                                                   title  \\\n",
       "51223  Will the Media Reset After the Election or Are...   \n",
       "51224  DOJ COMPLAINT: Comey Under Fire Over Partisan ...   \n",
       "51225  GOP Senator David Perdue Jokes About Praying f...   \n",
       "51226  Radio Derb Is On The Air–Leonardo And Brazil’s...   \n",
       "51227  Assange claims ‘crazed’ Clinton campaign tried...   \n",
       "51228  State Department says it can't find emails fro...   \n",
       "51229  The ‘P’ in PBS Should Stand for ‘Plutocratic’ ...   \n",
       "51230  Anti-Trump Protesters Are Tools of the Oligarc...   \n",
       "51231  In Ethiopia, Obama seeks progress on peace, se...   \n",
       "51232  Jeb Bush Is Suddenly Attacking Trump. Here's W...   \n",
       "\n",
       "                                                    text label  \n",
       "51223  Written by Peter Van Buren   venerable New Yor...     1  \n",
       "51224  DOJ COMPLAINT: Comey Under Fire Over Partisan ...     1  \n",
       "51225  The freshman senator from Georgia quoted scrip...     0  \n",
       "51226                                                        1  \n",
       "51227  Julian Assange has claimed the Hillary Clinton...     1  \n",
       "51228  The State Department told the Republican Natio...     0  \n",
       "51229  The ‘P’ in PBS Should Stand for ‘Plutocratic’ ...     1  \n",
       "51230   Anti-Trump Protesters Are Tools of the Oligar...     1  \n",
       "51231  ADDIS ABABA, Ethiopia —President Obama convene...     0  \n",
       "51232  Jeb Bush Is Suddenly Attacking Trump. Here's W...     0  "
      ]
     },
     "execution_count": 7,
     "metadata": {},
     "output_type": "execute_result"
    }
   ],
   "source": [
    "### Combining df1 and df2\n",
    "\n",
    "combined_df1_df2 = pd.concat([df1, df2], axis=0).reset_index(drop = True)\n",
    "combined_df1_df2 = combined_df1_df2.drop(['subject', 'date'], axis= 1)\n",
    "#combined_df1_df2.tail()\n",
    "#print(combined_df1_df2.shape)\n",
    "\n",
    "### Adding df3 to dataframe\n",
    "\n",
    "news = pd.concat([combined_df1_df2, df3[df3.columns[1:]]]).reset_index(drop = True)\n",
    "#news = df3[df3.columns[1:]]\n",
    "news.tail(10)"
   ]
  },
  {
   "cell_type": "code",
   "execution_count": 8,
   "id": "c48c2a1a",
   "metadata": {},
   "outputs": [
    {
     "name": "stdout",
     "output_type": "stream",
     "text": [
      "(51233, 3)\n"
     ]
    }
   ],
   "source": [
    "#find the shape of the current news data frame\n",
    "#this will be used to help determine number of duplicates\n",
    "dirty = news.shape\n",
    "print(dirty)"
   ]
  },
  {
   "cell_type": "markdown",
   "id": "bdfc7309",
   "metadata": {},
   "source": [
    "### Cleaning the data"
   ]
  },
  {
   "cell_type": "code",
   "execution_count": 9,
   "id": "280ad2b7",
   "metadata": {},
   "outputs": [
    {
     "data": {
      "text/html": [
       "<div>\n",
       "<style scoped>\n",
       "    .dataframe tbody tr th:only-of-type {\n",
       "        vertical-align: middle;\n",
       "    }\n",
       "\n",
       "    .dataframe tbody tr th {\n",
       "        vertical-align: top;\n",
       "    }\n",
       "\n",
       "    .dataframe thead th {\n",
       "        text-align: right;\n",
       "    }\n",
       "</style>\n",
       "<table border=\"1\" class=\"dataframe\">\n",
       "  <thead>\n",
       "    <tr style=\"text-align: right;\">\n",
       "      <th></th>\n",
       "      <th>title</th>\n",
       "      <th>text</th>\n",
       "      <th>label</th>\n",
       "    </tr>\n",
       "  </thead>\n",
       "  <tbody>\n",
       "    <tr>\n",
       "      <th>0</th>\n",
       "      <td>Donald Trump Sends Out Embarrassing New Year’...</td>\n",
       "      <td>Donald Trump just couldn t wish all Americans ...</td>\n",
       "      <td>1</td>\n",
       "    </tr>\n",
       "    <tr>\n",
       "      <th>1</th>\n",
       "      <td>Drunk Bragging Trump Staffer Started Russian ...</td>\n",
       "      <td>House Intelligence Committee Chairman Devin Nu...</td>\n",
       "      <td>1</td>\n",
       "    </tr>\n",
       "    <tr>\n",
       "      <th>2</th>\n",
       "      <td>Sheriff David Clarke Becomes An Internet Joke...</td>\n",
       "      <td>On Friday, it was revealed that former Milwauk...</td>\n",
       "      <td>1</td>\n",
       "    </tr>\n",
       "    <tr>\n",
       "      <th>3</th>\n",
       "      <td>Trump Is So Obsessed He Even Has Obama’s Name...</td>\n",
       "      <td>On Christmas day, Donald Trump announced that ...</td>\n",
       "      <td>1</td>\n",
       "    </tr>\n",
       "    <tr>\n",
       "      <th>4</th>\n",
       "      <td>Pope Francis Just Called Out Donald Trump Dur...</td>\n",
       "      <td>Pope Francis used his annual Christmas Day mes...</td>\n",
       "      <td>1</td>\n",
       "    </tr>\n",
       "    <tr>\n",
       "      <th>5</th>\n",
       "      <td>Racist Alabama Cops Brutalize Black Boy While...</td>\n",
       "      <td>The number of cases of cops brutalizing and ki...</td>\n",
       "      <td>1</td>\n",
       "    </tr>\n",
       "    <tr>\n",
       "      <th>6</th>\n",
       "      <td>Fresh Off The Golf Course, Trump Lashes Out A...</td>\n",
       "      <td>Donald Trump spent a good portion of his day a...</td>\n",
       "      <td>1</td>\n",
       "    </tr>\n",
       "    <tr>\n",
       "      <th>7</th>\n",
       "      <td>Trump Said Some INSANELY Racist Stuff Inside ...</td>\n",
       "      <td>In the wake of yet another court decision that...</td>\n",
       "      <td>1</td>\n",
       "    </tr>\n",
       "    <tr>\n",
       "      <th>8</th>\n",
       "      <td>Former CIA Director Slams Trump Over UN Bully...</td>\n",
       "      <td>Many people have raised the alarm regarding th...</td>\n",
       "      <td>1</td>\n",
       "    </tr>\n",
       "    <tr>\n",
       "      <th>9</th>\n",
       "      <td>WATCH: Brand-New Pro-Trump Ad Features So Muc...</td>\n",
       "      <td>Just when you might have thought we d get a br...</td>\n",
       "      <td>1</td>\n",
       "    </tr>\n",
       "  </tbody>\n",
       "</table>\n",
       "</div>"
      ],
      "text/plain": [
       "                                               title  \\\n",
       "0   Donald Trump Sends Out Embarrassing New Year’...   \n",
       "1   Drunk Bragging Trump Staffer Started Russian ...   \n",
       "2   Sheriff David Clarke Becomes An Internet Joke...   \n",
       "3   Trump Is So Obsessed He Even Has Obama’s Name...   \n",
       "4   Pope Francis Just Called Out Donald Trump Dur...   \n",
       "5   Racist Alabama Cops Brutalize Black Boy While...   \n",
       "6   Fresh Off The Golf Course, Trump Lashes Out A...   \n",
       "7   Trump Said Some INSANELY Racist Stuff Inside ...   \n",
       "8   Former CIA Director Slams Trump Over UN Bully...   \n",
       "9   WATCH: Brand-New Pro-Trump Ad Features So Muc...   \n",
       "\n",
       "                                                text label  \n",
       "0  Donald Trump just couldn t wish all Americans ...     1  \n",
       "1  House Intelligence Committee Chairman Devin Nu...     1  \n",
       "2  On Friday, it was revealed that former Milwauk...     1  \n",
       "3  On Christmas day, Donald Trump announced that ...     1  \n",
       "4  Pope Francis used his annual Christmas Day mes...     1  \n",
       "5  The number of cases of cops brutalizing and ki...     1  \n",
       "6  Donald Trump spent a good portion of his day a...     1  \n",
       "7  In the wake of yet another court decision that...     1  \n",
       "8  Many people have raised the alarm regarding th...     1  \n",
       "9  Just when you might have thought we d get a br...     1  "
      ]
     },
     "execution_count": 9,
     "metadata": {},
     "output_type": "execute_result"
    }
   ],
   "source": [
    "### Removing duplicates\n",
    "#This step is going to examine the text column and remove duplicates. \n",
    "#keeping only the first occurrence of each set of duplicates, and modifies the original df in place \n",
    "#resulting DataFrame will have a continuous index starting from 0\n",
    "\n",
    "news.drop_duplicates(subset= ['text'], keep = 'first', inplace= True, ignore_index = True)\n",
    "news.head(10)"
   ]
  },
  {
   "cell_type": "code",
   "execution_count": 10,
   "id": "111f53e8",
   "metadata": {},
   "outputs": [
    {
     "name": "stdout",
     "output_type": "stream",
     "text": [
      "(44705, 3)\n"
     ]
    }
   ],
   "source": [
    "cleaned=news.shape\n",
    "print(cleaned)"
   ]
  },
  {
   "cell_type": "code",
   "execution_count": 11,
   "id": "64fc98e6",
   "metadata": {},
   "outputs": [
    {
     "data": {
      "text/plain": [
       "dtype('O')"
      ]
     },
     "execution_count": 11,
     "metadata": {},
     "output_type": "execute_result"
    }
   ],
   "source": [
    "#Check the data type of text and title column\n",
    "\n",
    "news['title'].dtype\n"
   ]
  },
  {
   "cell_type": "code",
   "execution_count": 12,
   "id": "5bd6c9db",
   "metadata": {},
   "outputs": [
    {
     "data": {
      "text/plain": [
       "dtype('O')"
      ]
     },
     "execution_count": 12,
     "metadata": {},
     "output_type": "execute_result"
    }
   ],
   "source": [
    "news['text'].dtype"
   ]
  },
  {
   "cell_type": "code",
   "execution_count": 13,
   "id": "73d21ced",
   "metadata": {},
   "outputs": [],
   "source": [
    "#convert the title and text columns to strings\n",
    "news['title'] = news['title'].astype(str)\n",
    "news['text'] = news ['text'].astype(str)"
   ]
  },
  {
   "cell_type": "code",
   "execution_count": 14,
   "id": "c3a249ce",
   "metadata": {},
   "outputs": [
    {
     "data": {
      "image/png": "[encoded data removed]",
      "text/plain": [
       "<Figure size 504x432 with 1 Axes>"
      ]
     },
     "metadata": {
      "needs_background": "light"
     },
     "output_type": "display_data"
    }
   ],
   "source": [
    "### Showing plot of the number of False or Real Articles\n",
    "### We can see that there are more real than fake news articles in our data\n",
    "\n",
    "ax= news['label'].value_counts().plot(kind= 'bar',\n",
    "                                      rot= 0,\n",
    "                                      figsize= (7, 6),\n",
    "                                      title= 'Number of False and Real Articles from Optional Cleaning',\n",
    "                                      color= ('b', 'r'))\n",
    "ax.set_xticklabels(('Real', 'Fake'))\n",
    "\n",
    "for rect in ax.patches:\n",
    "    y_value = rect.get_height()\n",
    "    x_value = rect.get_x() + rect.get_width() / 2\n",
    "    space = 1\n",
    "    label = \"{:.0f}\".format(y_value)\n",
    "    ax.annotate(label, (x_value, y_value), xytext=(0, space), textcoords=\"offset points\", ha='center', va='bottom')\n",
    "\n",
    "plt.show()"
   ]
  },
  {
   "cell_type": "code",
   "execution_count": 15,
   "id": "a832e654",
   "metadata": {},
   "outputs": [
    {
     "data": {
      "text/html": [
       "<div>\n",
       "<style scoped>\n",
       "    .dataframe tbody tr th:only-of-type {\n",
       "        vertical-align: middle;\n",
       "    }\n",
       "\n",
       "    .dataframe tbody tr th {\n",
       "        vertical-align: top;\n",
       "    }\n",
       "\n",
       "    .dataframe thead th {\n",
       "        text-align: right;\n",
       "    }\n",
       "</style>\n",
       "<table border=\"1\" class=\"dataframe\">\n",
       "  <thead>\n",
       "    <tr style=\"text-align: right;\">\n",
       "      <th></th>\n",
       "      <th>title</th>\n",
       "      <th>text</th>\n",
       "      <th>label</th>\n",
       "    </tr>\n",
       "  </thead>\n",
       "  <tbody>\n",
       "    <tr>\n",
       "      <th>0</th>\n",
       "      <td>Gay and lesbian troops will be protected by ne...</td>\n",
       "      <td>WASHINGTON — Defense Secretary Ash Carter anno...</td>\n",
       "      <td>0</td>\n",
       "    </tr>\n",
       "    <tr>\n",
       "      <th>1</th>\n",
       "      <td>Puerto Rico governor hopes for 'open dialogue'...</td>\n",
       "      <td>(Reuters) - Puerto Rico Governor Ricardo Rosse...</td>\n",
       "      <td>0</td>\n",
       "    </tr>\n",
       "    <tr>\n",
       "      <th>2</th>\n",
       "      <td>Backstory: Behind the terror takedown</td>\n",
       "      <td>When a U.S. special operations team suddenly s...</td>\n",
       "      <td>0</td>\n",
       "    </tr>\n",
       "    <tr>\n",
       "      <th>3</th>\n",
       "      <td>Myanmar jails foreign journalists with Turkish...</td>\n",
       "      <td>NAYPYITAW (Reuters) - A Myanmar court on Frida...</td>\n",
       "      <td>0</td>\n",
       "    </tr>\n",
       "    <tr>\n",
       "      <th>4</th>\n",
       "      <td>Republican Ryan is raising big money but not f...</td>\n",
       "      <td>WASHINGTON (Reuters) - Overlooked in all the s...</td>\n",
       "      <td>0</td>\n",
       "    </tr>\n",
       "    <tr>\n",
       "      <th>5</th>\n",
       "      <td>Rwandan president's challenger faces incitemen...</td>\n",
       "      <td>KIGALI (Reuters) - A prominent critic of Rwand...</td>\n",
       "      <td>0</td>\n",
       "    </tr>\n",
       "    <tr>\n",
       "      <th>6</th>\n",
       "      <td>Losses, looting as Philippine war's fortunate ...</td>\n",
       "      <td>MARAWI CITY, Philippines (Reuters) - Khaliludd...</td>\n",
       "      <td>0</td>\n",
       "    </tr>\n",
       "    <tr>\n",
       "      <th>7</th>\n",
       "      <td>Brazilian minister quits in sign of rift in Te...</td>\n",
       "      <td>BRASILIA (Reuters) - One of four ministers rep...</td>\n",
       "      <td>0</td>\n",
       "    </tr>\n",
       "    <tr>\n",
       "      <th>8</th>\n",
       "      <td>Judge issues final order upholding Alabama sam...</td>\n",
       "      <td>(Reuters) - A federal judge in Alabama has iss...</td>\n",
       "      <td>0</td>\n",
       "    </tr>\n",
       "    <tr>\n",
       "      <th>9</th>\n",
       "      <td>Saudi Arabia, Egypt to Invade Yemen</td>\n",
       "      <td>Egypt and Saudi Arabia are planning a ground o...</td>\n",
       "      <td>0</td>\n",
       "    </tr>\n",
       "  </tbody>\n",
       "</table>\n",
       "</div>"
      ],
      "text/plain": [
       "                                               title  \\\n",
       "0  Gay and lesbian troops will be protected by ne...   \n",
       "1  Puerto Rico governor hopes for 'open dialogue'...   \n",
       "2              Backstory: Behind the terror takedown   \n",
       "3  Myanmar jails foreign journalists with Turkish...   \n",
       "4  Republican Ryan is raising big money but not f...   \n",
       "5  Rwandan president's challenger faces incitemen...   \n",
       "6  Losses, looting as Philippine war's fortunate ...   \n",
       "7  Brazilian minister quits in sign of rift in Te...   \n",
       "8  Judge issues final order upholding Alabama sam...   \n",
       "9                Saudi Arabia, Egypt to Invade Yemen   \n",
       "\n",
       "                                                text label  \n",
       "0  WASHINGTON — Defense Secretary Ash Carter anno...     0  \n",
       "1  (Reuters) - Puerto Rico Governor Ricardo Rosse...     0  \n",
       "2  When a U.S. special operations team suddenly s...     0  \n",
       "3  NAYPYITAW (Reuters) - A Myanmar court on Frida...     0  \n",
       "4  WASHINGTON (Reuters) - Overlooked in all the s...     0  \n",
       "5  KIGALI (Reuters) - A prominent critic of Rwand...     0  \n",
       "6  MARAWI CITY, Philippines (Reuters) - Khaliludd...     0  \n",
       "7  BRASILIA (Reuters) - One of four ministers rep...     0  \n",
       "8  (Reuters) - A federal judge in Alabama has iss...     0  \n",
       "9  Egypt and Saudi Arabia are planning a ground o...     0  "
      ]
     },
     "execution_count": 15,
     "metadata": {},
     "output_type": "execute_result"
    }
   ],
   "source": [
    "###\n",
    "\n",
    "news_com = news.groupby('label', group_keys=False).apply(lambda x: x.sample(frac=0.25)).reset_index(drop= True)\n",
    "news_com.head(10)"
   ]
  },
  {
   "cell_type": "code",
   "execution_count": 16,
   "id": "c422f98f",
   "metadata": {},
   "outputs": [
    {
     "data": {
      "image/png": "[encoded data removed]",
      "text/plain": [
       "<Figure size 504x432 with 1 Axes>"
      ]
     },
     "metadata": {
      "needs_background": "light"
     },
     "output_type": "display_data"
    }
   ],
   "source": [
    "ax= news_com['label'].value_counts().plot(kind= 'bar',\n",
    "                                      rot= 0,\n",
    "                                      figsize= (7, 6),\n",
    "                                      title= 'Number of False and Real Articles from Optional Cleaning',\n",
    "                                      color= ('b', 'r'))\n",
    "ax.set_xticklabels(('Real', 'Fake'))\n",
    "\n",
    "for rect in ax.patches:\n",
    "    y_value = rect.get_height()\n",
    "    x_value = rect.get_x() + rect.get_width() / 2\n",
    "    space = 1\n",
    "    label = \"{:.0f}\".format(y_value)\n",
    "    ax.annotate(label, (x_value, y_value), xytext=(0, space), textcoords=\"offset points\", ha='center', va='bottom')\n",
    "\n",
    "plt.show()"
   ]
  },
  {
   "cell_type": "markdown",
   "id": "3ffeeb7a",
   "metadata": {},
   "source": [
    "There were approximately 6500 duplicated stories. The text was cleaned based on the body of the article. This indicates there was overlap between the two data sets and within the Truth and Fake data. Initially the data was split approximately 50/50. In the Data Exploration section the data will be examined to validate the mix between true and fake articles is still approximately 50/50."
   ]
  },
  {
   "attachments": {},
   "cell_type": "markdown",
   "id": "7886921e",
   "metadata": {},
   "source": [
    "#### The following cleaning steps optional. \n",
    "During final analysis, will determine if the additional cleaning helped build a stronger model. Each step can be operated independently or sequentially. Each cleaning step will have two variables. The first variable will pull from the previous cleaning step. The second variable will pull from the news set only. This direct change from the news dataframe will have the label '_only'. This will be used for comparison later. \n",
    "This cleaning will be applied to the text only. There is commented out steps if the user wants to apply changes to title column in data frame as well"
   ]
  },
  {
   "cell_type": "code",
   "execution_count": 17,
   "id": "9e47214b",
   "metadata": {},
   "outputs": [],
   "source": [
    "###\n",
    "\n",
    "ps = PorterStemmer()\n",
    "\n",
    "\n",
    "def text_lowercase(text):\n",
    "    return text.lower()\n",
    "\n",
    "def split_hyphen(text):\n",
    "    text = text.replace(\"-\",\" \")\n",
    "    return text\n",
    "\n",
    "def cleanup(text):\n",
    "    for ele in text:\n",
    "        text = re.sub(r\"[^a-z]+\", ' ', text)\n",
    "    return text\n",
    "\n",
    "def tokenize(text):\n",
    "    text = word_tokenize(text)\n",
    "    return text\n",
    "\n",
    "def stemming(text):\n",
    "    return(ps.stem(text))\n",
    "\n",
    "\n",
    "def stopwords_removal(text):\n",
    "    text = [word for word in text if not word in stopwords.words()]\n",
    "    return text\n",
    "\n",
    "def pre_processing(text):\n",
    "    text = text_lowercase(text)\n",
    "    text = cleanup(text)\n",
    "    text = split_hyphen(text)\n",
    "    text = stemming(text)\n",
    "\n",
    "\n",
    "    text = stopwords_removal(text)\n",
    "    \n",
    "    return text"
   ]
  },
  {
   "cell_type": "code",
   "execution_count": 18,
   "id": "210166ae",
   "metadata": {},
   "outputs": [],
   "source": [
    "text_prep = []\n",
    "for sentence in news_com['text']:\n",
    "    text_prep.append(pre_processing(sentence))\n",
    "news_com['text_prep']= text_prep"
   ]
  },
  {
   "cell_type": "markdown",
   "id": "29ed501b",
   "metadata": {},
   "source": [
    "### Data Exploration"
   ]
  },
  {
   "cell_type": "code",
   "execution_count": null,
   "id": "18006b74",
   "metadata": {},
   "outputs": [],
   "source": [
    "### Looking at the shape of the news data\n",
    "\n",
    "print(\"News combined shape\", news_com.shape)"
   ]
  },
  {
   "cell_type": "markdown",
   "id": "f611d529",
   "metadata": {},
   "source": [
    "The two data frames are the same shape. This is expected since there were no additional row operations after removing duplicates. "
   ]
  },
  {
   "cell_type": "code",
   "execution_count": null,
   "id": "b63cf990",
   "metadata": {},
   "outputs": [],
   "source": [
    "### Looking at the basic information of both the news and combined news data\n",
    "\n",
    "print(\"\\nNews combined shape\",news_com.info())"
   ]
  },
  {
   "cell_type": "code",
   "execution_count": null,
   "id": "71b64c47",
   "metadata": {},
   "outputs": [],
   "source": [
    "### Using the describe function, we look at a quick description of the combined news data\n",
    "\n",
    "news_com.describe()"
   ]
  },
  {
   "cell_type": "code",
   "execution_count": null,
   "id": "5a6f0bf7",
   "metadata": {},
   "outputs": [],
   "source": [
    "### We initially created a term frequency matrix by utilizing the CountVectorizer function\n",
    "#This repeats the previous step with using the word_tokenize function\n",
    "### We can see that the number of initial terms is 266,057\n",
    "\n",
    "corpus = news_com.text_prep\n",
    "\n",
    "vectorizer= CountVectorizer(tokenizer= word_tokenize)\n",
    "tf_model= vectorizer.fit_transform(corpus)\n",
    "\n",
    "len(vectorizer.vocabulary_)"
   ]
  },
  {
   "cell_type": "markdown",
   "id": "b25b740a",
   "metadata": {},
   "source": [
    "The word tokenize function counts differently from the casual tokenizer. This is most apparent in the comparison of the two dirty values. Casual dirty - 244,731; Word dirty - 266,057. While with the clean data in both cases the tokenizer counted 193,750 in the vocabulary"
   ]
  },
  {
   "cell_type": "code",
   "execution_count": null,
   "id": "62b426d4",
   "metadata": {},
   "outputs": [],
   "source": [
    "### When looking at the cleaned data word tokenizer shape of the term frequency matrix, \n",
    "#we see that the number of columns is 193,750\n",
    "### and the number of rows is 44,705\n",
    "\n",
    "tf_model.shape"
   ]
  },
  {
   "cell_type": "code",
   "execution_count": null,
   "id": "3780b14a",
   "metadata": {},
   "outputs": [],
   "source": [
    "### Next, we created a term frequency matrix by utilizing the TfidfVectorizer function\n",
    "### We can see that the number of initial terms is 244,730\n",
    "\n",
    "vectorizer2= TfidfVectorizer(tokenizer= word_tokenize)\n",
    "tfidf_model2= vectorizer2.fit_transform(corpus).toarray()\n",
    "\n",
    "len(vectorizer2.vocabulary_)"
   ]
  },
  {
   "cell_type": "code",
   "execution_count": null,
   "id": "543edffe",
   "metadata": {},
   "outputs": [],
   "source": [
    "### Mean removal reduces noise in dataset\n",
    "### We see that the number of columns is 244,730 and the number of rows is 44,705\n",
    "\n",
    "tfidf_model2= pd.DataFrame(tfidf_model2)\n",
    "\n",
    "tfidf_model2= tfidf_model2 - tfidf_model2.mean()\n",
    "\n",
    "tfidf_model2.shape"
   ]
  },
  {
   "cell_type": "markdown",
   "id": "671f4ff4",
   "metadata": {},
   "source": [
    "#### The tf_model and the tfid_model have the same number of rows and columns - which is expected. We will likely primarily use the TF-ID, because of the weight of more/less frequent terms across documents.\n",
    "\n",
    "##### We will also likely need to decrease the size of our dataset to create a subset of 10,000 rows (5,000 real and 5,000 fake), because we are getting a memory error on our school computers when we run the vectorizer functions."
   ]
  },
  {
   "cell_type": "code",
   "execution_count": null,
   "id": "8e290c19",
   "metadata": {},
   "outputs": [],
   "source": []
  },
  {
   "cell_type": "code",
   "execution_count": null,
   "id": "9ba085b5",
   "metadata": {},
   "outputs": [],
   "source": [
    "###\n",
    "\n",
    "dictionary = gensim.corpora.Dictionary(news_com['text_prep'])"
   ]
  },
  {
   "cell_type": "code",
   "execution_count": null,
   "id": "58810612",
   "metadata": {},
   "outputs": [],
   "source": [
    "###\n",
    "\n",
    "bow_corpus = [dictionary.doc2bow(doc) for doc in news_com['text_prep']]\n",
    "bow_corpus"
   ]
  },
  {
   "cell_type": "code",
   "execution_count": null,
   "id": "3e5cab1a",
   "metadata": {},
   "outputs": [],
   "source": [
    "###\n",
    "\n",
    "tfidf = models.TfidfModel(bow_corpus)\n",
    "corpus_tfidf = tfidf[bow_corpus]"
   ]
  },
  {
   "cell_type": "code",
   "execution_count": null,
   "id": "f06f597e",
   "metadata": {},
   "outputs": [],
   "source": [
    "###\n",
    "\n",
    "for doc in corpus_tfidf:\n",
    "    print(doc)"
   ]
  },
  {
   "cell_type": "code",
   "execution_count": null,
   "id": "8e10b1b2",
   "metadata": {},
   "outputs": [],
   "source": [
    "###\n",
    "\n",
    "lda_model_bow = gensim.models.LdaMulticore(bow_corpus, num_topics=4, id2word=dictionary, passes=2, workers=2)\n",
    "\n",
    "for idx, topic in lda_model_bow.print_topics(-1):\n",
    "    print('Topic: {} \\nWords: {}'.format(idx+1, topic))"
   ]
  },
  {
   "cell_type": "code",
   "execution_count": null,
   "id": "90776c9a",
   "metadata": {},
   "outputs": [],
   "source": [
    "### \n",
    "\n",
    "lda_model_bow.show_topic(0)"
   ]
  },
  {
   "cell_type": "code",
   "execution_count": null,
   "id": "eb2cb1c8",
   "metadata": {},
   "outputs": [],
   "source": [
    "###\n",
    "\n",
    "for i in range(0,4):\n",
    "  l = lda_model_bow.show_topic(i)\n",
    "  print(\"\\n\\nTopic \"+ str(i+1))  \n",
    "  for i in range(len(l)):\n",
    "    print(l[i][0])"
   ]
  },
  {
   "cell_type": "code",
   "execution_count": null,
   "id": "b5073ea5",
   "metadata": {},
   "outputs": [],
   "source": [
    "###\n",
    "\n",
    "lda_model_tfidf = gensim.models.LdaMulticore(corpus_tfidf, num_topics=4, id2word=dictionary, passes=2, workers=4)\n",
    "for idx, topic in lda_model_tfidf.print_topics(-1):\n",
    "    print('Topic: {} \\nWord: {}'.format(idx, topic))"
   ]
  },
  {
   "cell_type": "code",
   "execution_count": null,
   "id": "af0a9d7a",
   "metadata": {},
   "outputs": [],
   "source": [
    "###\n",
    "\n",
    "for i in range(0,4):\n",
    "  l = lda_model_tfidf.show_topic(i)\n",
    "  print(\"\\n\\nTopic \"+ str(i+1))  \n",
    "  for i in range(len(l)):\n",
    "    print(l[i][0])"
   ]
  },
  {
   "cell_type": "code",
   "execution_count": null,
   "id": "c66ba849",
   "metadata": {},
   "outputs": [],
   "source": [
    "###\n",
    "\n",
    "from gensim.models import CoherenceModel\n",
    "print('Perplexity: ', round(lda_model_bow.log_perplexity(bow_corpus), 2))\n",
    "\n",
    "coherence_model_lda = CoherenceModel(model=lda_model_bow, texts= \n",
    "                                     news_com['text_prep'], dictionary=dictionary, coherence='c_v')\n",
    "coherence_lda = coherence_model_lda.get_coherence()\n",
    "print('Coherence Score: ', round(coherence_lda, 2))"
   ]
  },
  {
   "cell_type": "code",
   "execution_count": null,
   "id": "84fd1522",
   "metadata": {},
   "outputs": [],
   "source": [
    "###\n",
    "\n",
    "print('Perplexity: ', round(lda_model_tfidf.log_perplexity(corpus_tfidf), 2))\n",
    "coherence_model_lda = CoherenceModel(model=lda_model_tfidf, texts= news_com['text_prep'], dictionary=dictionary, coherence='c_v')\n",
    "coherence_lda = coherence_model_lda.get_coherence()\n",
    "print('Coherence Score: ', round(coherence_lda, 2))"
   ]
  },
  {
   "cell_type": "code",
   "execution_count": null,
   "id": "a3c03454",
   "metadata": {},
   "outputs": [],
   "source": [
    "###\n",
    "\n",
    "def format_topics_sentences(ldamodel=None, corpus=bow_corpus, texts=news_com['text_prep']):\n",
    "    # Init output\n",
    "    sent_topics_df = pd.DataFrame()\n",
    "\n",
    "    # Get main topic in each document\n",
    "    for i, row_list in enumerate(ldamodel[corpus]):\n",
    "        row = row_list[0] if ldamodel.per_word_topics else row_list            \n",
    "        # print(row)\n",
    "        row = sorted(row, key=lambda x: (x[1]), reverse=True)\n",
    "        # Get the Dominant topic, Perc Contribution and Keywords for each document\n",
    "        for j, (topic_num, prop_topic) in enumerate(row):\n",
    "            if j == 0:  # => dominant topic\n",
    "                wp = ldamodel.show_topic(topic_num)\n",
    "                topic_keywords = \", \".join([word for word, prop in wp])\n",
    "                sent_topics_df = sent_topics_df.append(pd.Series([int(topic_num), round(prop_topic,4), topic_keywords]), ignore_index=True)\n",
    "            else:\n",
    "                break\n",
    "    sent_topics_df.columns = ['Dominant_Topic', 'Perc_Contribution', 'Topic_Keywords']\n",
    "\n",
    "    # Add original text to the end of the output\n",
    "    contents = pd.Series(texts)\n",
    "    sent_topics_df = pd.concat([sent_topics_df, contents], axis=1)\n",
    "    return(sent_topics_df)"
   ]
  },
  {
   "cell_type": "code",
   "execution_count": null,
   "id": "76443969",
   "metadata": {},
   "outputs": [],
   "source": [
    "###\n",
    "\n",
    "df_topic_sents_keywords = format_topics_sentences(ldamodel=lda_model_tfidf, corpus=corpus_tfidf, texts=news_com['text_prep'])\n",
    "\n",
    "# Format\n",
    "df_dominant_topic = df_topic_sents_keywords.reset_index()\n",
    "df_dominant_topic.columns = ['Document_No', 'Dominant_Topic', 'Topic_Perc_Contrib', 'Keywords', 'Text']\n",
    "df_dominant_topic"
   ]
  },
  {
   "cell_type": "code",
   "execution_count": null,
   "id": "ac7e1dfa",
   "metadata": {},
   "outputs": [],
   "source": [
    "###\n",
    "\n",
    "vis = pyLDAvis.gensim.prepare(topic_model= lda_model_tfidf, \n",
    "                              corpus= corpus_tfidf, \n",
    "                              dictionary=dictionary)\n",
    "pyLDAvis.enable_notebook()\n",
    "pyLDAvis.display(vis)"
   ]
  }
 ],
 "metadata": {
  "interpreter": {
   "hash": "aee8b7b246df8f9039afb4144a1f6fd8d2ca17a180786b69acc140d282b71a49"
  },
  "kernelspec": {
   "display_name": "Python 3 (ipykernel)",
   "language": "python",
   "name": "python3"
  },
  "language_info": {
   "codemirror_mode": {
    "name": "ipython",
    "version": 3
   },
   "file_extension": ".py",
   "mimetype": "text/x-python",
   "name": "python",
   "nbconvert_exporter": "python",
   "pygments_lexer": "ipython3",
   "version": "3.9.12"
  }
 },
 "nbformat": 4,
 "nbformat_minor": 5
}
